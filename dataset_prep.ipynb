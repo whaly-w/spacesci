{
 "cells": [
  {
   "cell_type": "code",
   "execution_count": 1,
   "metadata": {},
   "outputs": [],
   "source": [
    "import pandas as pd\n",
    "import json\n",
    "import matplotlib\n",
    "\n",
    "dir = 'datasets_20y'"
   ]
  },
  {
   "cell_type": "code",
   "execution_count": 2,
   "metadata": {},
   "outputs": [
    {
     "name": "stdout",
     "output_type": "stream",
     "text": [
      "{'source': 'GFZ Potsdam', 'license': 'CC BY 4.0'}\n",
      "meta\n",
      "datetime\n",
      "Hp60\n",
      "2004-01-01T09:00:00Z\n"
     ]
    }
   ],
   "source": [
    "with open(f'{dir}/HP60.json', 'r') as file:\n",
    "    data_HP60 = json.load(file)\n",
    "print(data_HP60['meta'])\n",
    "for i in data_HP60:\n",
    "    print(i)\n",
    "\n",
    "with open(f'{dir}/kp.json') as file:\n",
    "    data_kp = json.load(file)\n",
    "print(data_kp['datetime'][3])"
   ]
  },
  {
   "cell_type": "code",
   "execution_count": 3,
   "metadata": {},
   "outputs": [],
   "source": [
    "with open(f'{dir}/VAL.txt') as file:\n",
    "    lines = file.readlines()\n",
    "\n",
    "data_SN = {'datetime': [], 'SN': []}\n",
    "for line in lines:\n",
    "    data_SN['datetime'].append(line[:10].replace(' ','-'))\n",
    "    data_SN['SN'].append(line[135:138])\n",
    "\n",
    "with open(f'{dir}/SN.json', 'w') as file:\n",
    "    json.dump(data_SN, file)"
   ]
  },
  {
   "cell_type": "code",
   "execution_count": 8,
   "metadata": {},
   "outputs": [
    {
     "name": "stdout",
     "output_type": "stream",
     "text": [
      "184104\n"
     ]
    },
    {
     "data": {
      "text/html": [
       "<div>\n",
       "<style scoped>\n",
       "    .dataframe tbody tr th:only-of-type {\n",
       "        vertical-align: middle;\n",
       "    }\n",
       "\n",
       "    .dataframe tbody tr th {\n",
       "        vertical-align: top;\n",
       "    }\n",
       "\n",
       "    .dataframe thead th {\n",
       "        text-align: right;\n",
       "    }\n",
       "</style>\n",
       "<table border=\"1\" class=\"dataframe\">\n",
       "  <thead>\n",
       "    <tr style=\"text-align: right;\">\n",
       "      <th></th>\n",
       "      <th>datatime</th>\n",
       "      <th>Kp</th>\n",
       "      <th>SN</th>\n",
       "      <th>Hp60</th>\n",
       "    </tr>\n",
       "  </thead>\n",
       "  <tbody>\n",
       "    <tr>\n",
       "      <th>0</th>\n",
       "      <td>2004-01-01T00:00:00Z</td>\n",
       "      <td>3.333</td>\n",
       "      <td>52</td>\n",
       "      <td>3.000</td>\n",
       "    </tr>\n",
       "    <tr>\n",
       "      <th>1</th>\n",
       "      <td>2004-01-01T01:00:00Z</td>\n",
       "      <td>3.333</td>\n",
       "      <td>52</td>\n",
       "      <td>4.333</td>\n",
       "    </tr>\n",
       "    <tr>\n",
       "      <th>2</th>\n",
       "      <td>2004-01-01T02:00:00Z</td>\n",
       "      <td>3.333</td>\n",
       "      <td>52</td>\n",
       "      <td>3.667</td>\n",
       "    </tr>\n",
       "    <tr>\n",
       "      <th>3</th>\n",
       "      <td>2004-01-01T03:00:00Z</td>\n",
       "      <td>3.667</td>\n",
       "      <td>52</td>\n",
       "      <td>3.333</td>\n",
       "    </tr>\n",
       "    <tr>\n",
       "      <th>4</th>\n",
       "      <td>2004-01-01T04:00:00Z</td>\n",
       "      <td>3.667</td>\n",
       "      <td>52</td>\n",
       "      <td>3.333</td>\n",
       "    </tr>\n",
       "  </tbody>\n",
       "</table>\n",
       "</div>"
      ],
      "text/plain": [
       "               datatime     Kp   SN   Hp60\n",
       "0  2004-01-01T00:00:00Z  3.333   52  3.000\n",
       "1  2004-01-01T01:00:00Z  3.333   52  4.333\n",
       "2  2004-01-01T02:00:00Z  3.333   52  3.667\n",
       "3  2004-01-01T03:00:00Z  3.667   52  3.333\n",
       "4  2004-01-01T04:00:00Z  3.667   52  3.333"
      ]
     },
     "execution_count": 8,
     "metadata": {},
     "output_type": "execute_result"
    }
   ],
   "source": [
    "doc = {\n",
    "    'datatime': [],\n",
    "    'Kp': [],\n",
    "    'SN': [],\n",
    "    'Hp60': []\n",
    "}\n",
    "\n",
    "df_data = []\n",
    "\n",
    "for i, timestamp in enumerate(data_HP60['datetime']):\n",
    "    doc['datatime'].append(timestamp)\n",
    "    doc['Kp'].append(data_kp['Kp'][i//3])\n",
    "    doc['SN'].append(data_SN['SN'][i//24])\n",
    "    doc['Hp60'].append(data_HP60['Hp60'][i])\n",
    "    \n",
    "    df_data.append({\n",
    "        'datatime': timestamp,\n",
    "        'Kp': data_kp['Kp'][i//3],\n",
    "        'SN': data_SN['SN'][i//24],\n",
    "        'Hp60': data_HP60['Hp60'][i]\n",
    "    })\n",
    "    \n",
    "print(len(doc['datatime']))\n",
    "df = pd.DataFrame(df_data)    \n",
    "df.head()"
   ]
  },
  {
   "cell_type": "code",
   "execution_count": 9,
   "metadata": {},
   "outputs": [],
   "source": [
    "df.head()\n",
    "df.to_csv(f'{dir}/dataset.csv', index= False)"
   ]
  }
 ],
 "metadata": {
  "kernelspec": {
   "display_name": "spacesci",
   "language": "python",
   "name": "python3"
  },
  "language_info": {
   "codemirror_mode": {
    "name": "ipython",
    "version": 3
   },
   "file_extension": ".py",
   "mimetype": "text/x-python",
   "name": "python",
   "nbconvert_exporter": "python",
   "pygments_lexer": "ipython3",
   "version": "3.10.16"
  }
 },
 "nbformat": 4,
 "nbformat_minor": 2
}
